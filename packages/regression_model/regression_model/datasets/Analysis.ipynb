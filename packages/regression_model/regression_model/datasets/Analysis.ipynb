{
 "cells": [
  {
   "cell_type": "code",
   "execution_count": 1,
   "metadata": {},
   "outputs": [],
   "source": [
    "import pandas as pd"
   ]
  },
  {
   "cell_type": "code",
   "execution_count": 2,
   "metadata": {},
   "outputs": [],
   "source": [
    "df = pd.read_csv('train.csv')"
   ]
  },
  {
   "cell_type": "code",
   "execution_count": 3,
   "metadata": {},
   "outputs": [
    {
     "data": {
      "text/html": [
       "<div>\n",
       "<style scoped>\n",
       "    .dataframe tbody tr th:only-of-type {\n",
       "        vertical-align: middle;\n",
       "    }\n",
       "\n",
       "    .dataframe tbody tr th {\n",
       "        vertical-align: top;\n",
       "    }\n",
       "\n",
       "    .dataframe thead th {\n",
       "        text-align: right;\n",
       "    }\n",
       "</style>\n",
       "<table border=\"1\" class=\"dataframe\">\n",
       "  <thead>\n",
       "    <tr style=\"text-align: right;\">\n",
       "      <th></th>\n",
       "      <th>Unnamed: 0</th>\n",
       "      <th>id</th>\n",
       "      <th>radius_mean</th>\n",
       "      <th>texture_mean</th>\n",
       "      <th>perimeter_mean</th>\n",
       "      <th>area_mean</th>\n",
       "      <th>smoothness_mean</th>\n",
       "      <th>compactness_mean</th>\n",
       "      <th>concavity_mean</th>\n",
       "      <th>concave points_mean</th>\n",
       "      <th>...</th>\n",
       "      <th>texture_worst</th>\n",
       "      <th>perimeter_worst</th>\n",
       "      <th>area_worst</th>\n",
       "      <th>smoothness_worst</th>\n",
       "      <th>compactness_worst</th>\n",
       "      <th>concavity_worst</th>\n",
       "      <th>concave points_worst</th>\n",
       "      <th>symmetry_worst</th>\n",
       "      <th>fractal_dimension_worst</th>\n",
       "      <th>diagnosis</th>\n",
       "    </tr>\n",
       "  </thead>\n",
       "  <tbody>\n",
       "    <tr>\n",
       "      <th>0</th>\n",
       "      <td>634</td>\n",
       "      <td>898918</td>\n",
       "      <td>18.129266</td>\n",
       "      <td>20.709311</td>\n",
       "      <td>120.903373</td>\n",
       "      <td>1022.195990</td>\n",
       "      <td>0.108360</td>\n",
       "      <td>0.174345</td>\n",
       "      <td>0.227771</td>\n",
       "      <td>0.115785</td>\n",
       "      <td>...</td>\n",
       "      <td>30.520762</td>\n",
       "      <td>142.526704</td>\n",
       "      <td>1293.500310</td>\n",
       "      <td>0.134900</td>\n",
       "      <td>0.408461</td>\n",
       "      <td>0.557763</td>\n",
       "      <td>0.220765</td>\n",
       "      <td>0.412392</td>\n",
       "      <td>0.089368</td>\n",
       "      <td>M</td>\n",
       "    </tr>\n",
       "    <tr>\n",
       "      <th>1</th>\n",
       "      <td>131</td>\n",
       "      <td>8670</td>\n",
       "      <td>15.460000</td>\n",
       "      <td>19.480000</td>\n",
       "      <td>101.700000</td>\n",
       "      <td>748.900000</td>\n",
       "      <td>0.109200</td>\n",
       "      <td>0.122300</td>\n",
       "      <td>0.146600</td>\n",
       "      <td>0.080870</td>\n",
       "      <td>...</td>\n",
       "      <td>26.000000</td>\n",
       "      <td>124.900000</td>\n",
       "      <td>1156.000000</td>\n",
       "      <td>0.154600</td>\n",
       "      <td>0.239400</td>\n",
       "      <td>0.379100</td>\n",
       "      <td>0.151400</td>\n",
       "      <td>0.283700</td>\n",
       "      <td>0.080190</td>\n",
       "      <td>M</td>\n",
       "    </tr>\n",
       "    <tr>\n",
       "      <th>2</th>\n",
       "      <td>655</td>\n",
       "      <td>915654</td>\n",
       "      <td>13.725269</td>\n",
       "      <td>21.061589</td>\n",
       "      <td>91.033731</td>\n",
       "      <td>584.268955</td>\n",
       "      <td>0.111816</td>\n",
       "      <td>0.153232</td>\n",
       "      <td>0.153737</td>\n",
       "      <td>0.082269</td>\n",
       "      <td>...</td>\n",
       "      <td>30.713178</td>\n",
       "      <td>113.994750</td>\n",
       "      <td>854.663357</td>\n",
       "      <td>0.159895</td>\n",
       "      <td>0.403142</td>\n",
       "      <td>0.523311</td>\n",
       "      <td>0.206868</td>\n",
       "      <td>0.349468</td>\n",
       "      <td>0.110237</td>\n",
       "      <td>M</td>\n",
       "    </tr>\n",
       "    <tr>\n",
       "      <th>3</th>\n",
       "      <td>551</td>\n",
       "      <td>923780</td>\n",
       "      <td>11.130000</td>\n",
       "      <td>22.440000</td>\n",
       "      <td>71.490000</td>\n",
       "      <td>378.400000</td>\n",
       "      <td>0.095660</td>\n",
       "      <td>0.081940</td>\n",
       "      <td>0.048240</td>\n",
       "      <td>0.022570</td>\n",
       "      <td>...</td>\n",
       "      <td>28.260000</td>\n",
       "      <td>77.800000</td>\n",
       "      <td>436.600000</td>\n",
       "      <td>0.108700</td>\n",
       "      <td>0.178200</td>\n",
       "      <td>0.156400</td>\n",
       "      <td>0.064130</td>\n",
       "      <td>0.316900</td>\n",
       "      <td>0.080320</td>\n",
       "      <td>B</td>\n",
       "    </tr>\n",
       "    <tr>\n",
       "      <th>4</th>\n",
       "      <td>488</td>\n",
       "      <td>913512</td>\n",
       "      <td>11.680000</td>\n",
       "      <td>16.170000</td>\n",
       "      <td>75.490000</td>\n",
       "      <td>420.500000</td>\n",
       "      <td>0.112800</td>\n",
       "      <td>0.092630</td>\n",
       "      <td>0.042790</td>\n",
       "      <td>0.031320</td>\n",
       "      <td>...</td>\n",
       "      <td>21.590000</td>\n",
       "      <td>86.570000</td>\n",
       "      <td>549.800000</td>\n",
       "      <td>0.152600</td>\n",
       "      <td>0.147700</td>\n",
       "      <td>0.149000</td>\n",
       "      <td>0.098150</td>\n",
       "      <td>0.280400</td>\n",
       "      <td>0.080240</td>\n",
       "      <td>B</td>\n",
       "    </tr>\n",
       "  </tbody>\n",
       "</table>\n",
       "<p>5 rows × 33 columns</p>\n",
       "</div>"
      ],
      "text/plain": [
       "   Unnamed: 0      id  radius_mean  texture_mean  perimeter_mean    area_mean  \\\n",
       "0         634  898918    18.129266     20.709311      120.903373  1022.195990   \n",
       "1         131    8670    15.460000     19.480000      101.700000   748.900000   \n",
       "2         655  915654    13.725269     21.061589       91.033731   584.268955   \n",
       "3         551  923780    11.130000     22.440000       71.490000   378.400000   \n",
       "4         488  913512    11.680000     16.170000       75.490000   420.500000   \n",
       "\n",
       "   smoothness_mean  compactness_mean  concavity_mean  concave points_mean  \\\n",
       "0         0.108360          0.174345        0.227771             0.115785   \n",
       "1         0.109200          0.122300        0.146600             0.080870   \n",
       "2         0.111816          0.153232        0.153737             0.082269   \n",
       "3         0.095660          0.081940        0.048240             0.022570   \n",
       "4         0.112800          0.092630        0.042790             0.031320   \n",
       "\n",
       "   ...  texture_worst  perimeter_worst   area_worst  smoothness_worst  \\\n",
       "0  ...      30.520762       142.526704  1293.500310          0.134900   \n",
       "1  ...      26.000000       124.900000  1156.000000          0.154600   \n",
       "2  ...      30.713178       113.994750   854.663357          0.159895   \n",
       "3  ...      28.260000        77.800000   436.600000          0.108700   \n",
       "4  ...      21.590000        86.570000   549.800000          0.152600   \n",
       "\n",
       "   compactness_worst  concavity_worst  concave points_worst  symmetry_worst  \\\n",
       "0           0.408461         0.557763              0.220765        0.412392   \n",
       "1           0.239400         0.379100              0.151400        0.283700   \n",
       "2           0.403142         0.523311              0.206868        0.349468   \n",
       "3           0.178200         0.156400              0.064130        0.316900   \n",
       "4           0.147700         0.149000              0.098150        0.280400   \n",
       "\n",
       "   fractal_dimension_worst  diagnosis  \n",
       "0                 0.089368          M  \n",
       "1                 0.080190          M  \n",
       "2                 0.110237          M  \n",
       "3                 0.080320          B  \n",
       "4                 0.080240          B  \n",
       "\n",
       "[5 rows x 33 columns]"
      ]
     },
     "execution_count": 3,
     "metadata": {},
     "output_type": "execute_result"
    }
   ],
   "source": [
    "df.head()"
   ]
  },
  {
   "cell_type": "code",
   "execution_count": 4,
   "metadata": {},
   "outputs": [
    {
     "data": {
      "text/plain": [
       "Index(['Unnamed: 0', 'id', 'radius_mean', 'texture_mean', 'perimeter_mean',\n",
       "       'area_mean', 'smoothness_mean', 'compactness_mean', 'concavity_mean',\n",
       "       'concave points_mean', 'symmetry_mean', 'fractal_dimension_mean',\n",
       "       'radius_se', 'texture_se', 'perimeter_se', 'area_se', 'smoothness_se',\n",
       "       'compactness_se', 'concavity_se', 'concave points_se', 'symmetry_se',\n",
       "       'fractal_dimension_se', 'radius_worst', 'texture_worst',\n",
       "       'perimeter_worst', 'area_worst', 'smoothness_worst',\n",
       "       'compactness_worst', 'concavity_worst', 'concave points_worst',\n",
       "       'symmetry_worst', 'fractal_dimension_worst', 'diagnosis'],\n",
       "      dtype='object')"
      ]
     },
     "execution_count": 4,
     "metadata": {},
     "output_type": "execute_result"
    }
   ],
   "source": [
    "df.columns\n"
   ]
  },
  {
   "cell_type": "code",
   "execution_count": 8,
   "metadata": {},
   "outputs": [
    {
     "data": {
      "text/plain": [
       "Index(['Unnamed: 0', 'id', 'radius_mean', 'texture_mean', 'perimeter_mean',\n",
       "       'area_mean', 'smoothness_mean', 'compactness_mean', 'concavity_mean',\n",
       "       'concave points_mean', 'symmetry_mean', 'fractal_dimension_mean',\n",
       "       'radius_se', 'texture_se', 'perimeter_se', 'area_se', 'smoothness_se',\n",
       "       'compactness_se', 'concavity_se', 'concave points_se', 'symmetry_se',\n",
       "       'fractal_dimension_se', 'radius_worst', 'texture_worst',\n",
       "       'perimeter_worst', 'area_worst', 'smoothness_worst',\n",
       "       'compactness_worst', 'concavity_worst', 'concave points_worst',\n",
       "       'symmetry_worst', 'fractal_dimension_worst'],\n",
       "      dtype='object')"
      ]
     },
     "execution_count": 8,
     "metadata": {},
     "output_type": "execute_result"
    }
   ],
   "source": [
    "df._get_numeric_data().columns"
   ]
  },
  {
   "cell_type": "code",
   "execution_count": 9,
   "metadata": {},
   "outputs": [
    {
     "data": {
      "text/plain": [
       "Index(['diagnosis'], dtype='object')"
      ]
     },
     "execution_count": 9,
     "metadata": {},
     "output_type": "execute_result"
    }
   ],
   "source": [
    "df.select_dtypes(exclude=['int', 'float']).columns"
   ]
  },
  {
   "cell_type": "code",
   "execution_count": 5,
   "metadata": {},
   "outputs": [
    {
     "data": {
      "text/plain": [
       "642"
      ]
     },
     "execution_count": 5,
     "metadata": {},
     "output_type": "execute_result"
    }
   ],
   "source": [
    "len(df)"
   ]
  },
  {
   "cell_type": "code",
   "execution_count": null,
   "metadata": {},
   "outputs": [],
   "source": []
  }
 ],
 "metadata": {
  "kernelspec": {
   "display_name": "Python 3",
   "language": "python",
   "name": "python3"
  },
  "language_info": {
   "codemirror_mode": {
    "name": "ipython",
    "version": 3
   },
   "file_extension": ".py",
   "mimetype": "text/x-python",
   "name": "python",
   "nbconvert_exporter": "python",
   "pygments_lexer": "ipython3",
   "version": "3.8.3"
  }
 },
 "nbformat": 4,
 "nbformat_minor": 4
}
